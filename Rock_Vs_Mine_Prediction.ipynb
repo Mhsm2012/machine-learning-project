{
  "nbformat": 4,
  "nbformat_minor": 0,
  "metadata": {
    "colab": {
      "name": "Rock Vs Mine Prediction.ipynb",
      "provenance": [],
      "authorship_tag": "ABX9TyM7U8OpbfaTGlTLgG2iLcwY",
      "include_colab_link": true
    },
    "kernelspec": {
      "name": "python3",
      "display_name": "Python 3"
    },
    "language_info": {
      "name": "python"
    }
  },
  "cells": [
    {
      "cell_type": "markdown",
      "metadata": {
        "id": "view-in-github",
        "colab_type": "text"
      },
      "source": [
        "<a href=\"https://colab.research.google.com/github/Mhsm2012/machine-learning-project/blob/main/Rock_Vs_Mine_Prediction.ipynb\" target=\"_parent\"><img src=\"https://colab.research.google.com/assets/colab-badge.svg\" alt=\"Open In Colab\"/></a>"
      ]
    },
    {
      "cell_type": "markdown",
      "metadata": {
        "id": "CmmbRPHBCxnD"
      },
      "source": [
        "**Importing dependencies**\n"
      ]
    },
    {
      "cell_type": "code",
      "metadata": {
        "id": "mjQ65YiYC0oJ"
      },
      "source": [
        "import numpy as np\n",
        "import pandas as pd"
      ],
      "execution_count": 1,
      "outputs": []
    },
    {
      "cell_type": "markdown",
      "metadata": {
        "id": "PmJvfXL8ELz4"
      },
      "source": [
        "**`for Splitting data into two parts one for model and other for testing need to import sklearn `**"
      ]
    },
    {
      "cell_type": "code",
      "metadata": {
        "id": "3zxh2IL7EZAC"
      },
      "source": [
        "from sklearn.model_selection import train_test_split\n",
        "# this for splitting data \n",
        "from sklearn.linear_model import LogisticRegression\n",
        "# import logisticregression as we will use linear regression for this project \n",
        "from sklearn.metrics import accuracy_score \n",
        "# accuracy_score used to determine accuracy of our model"
      ],
      "execution_count": 2,
      "outputs": []
    },
    {
      "cell_type": "code",
      "metadata": {
        "id": "dqxbYISWFX3n"
      },
      "source": [
        ""
      ],
      "execution_count": null,
      "outputs": []
    }
  ]
}